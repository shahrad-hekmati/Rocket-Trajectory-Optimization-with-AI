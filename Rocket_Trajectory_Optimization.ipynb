{
 "cells": [
  {
   "cell_type": "markdown",
   "metadata": {},
   "source": [
    "## Importing Libraries"
   ]
  },
  {
   "cell_type": "code",
   "execution_count": 1,
   "metadata": {},
   "outputs": [],
   "source": [
    "import gymnasium as gym\n",
    "import random\n",
    "import numpy as np\n",
    "from collections import deque\n",
    "from tensorflow.keras.layers import Dense\n",
    "from tensorflow.keras.models import Sequential\n",
    "from tensorflow.keras.optimizers import Adam"
   ]
  },
  {
   "cell_type": "markdown",
   "metadata": {},
   "source": [
    "## display The Lunar Lander problem "
   ]
  },
  {
   "cell_type": "code",
   "execution_count": 2,
   "metadata": {},
   "outputs": [],
   "source": [
    "env = gym.make(\"LunarLander-v2\", render_mode=\"human\")\n",
    "observation, info = env.reset(seed=42)\n",
    "for _ in range(1000):\n",
    "   action = env.action_space.sample()  # this is where you would insert your policy\n",
    "   observation, reward, terminated, truncated, info = env.step(action)\n",
    "\n",
    "   if terminated or truncated:\n",
    "      observation, info = env.reset()\n",
    "\n",
    "env.close()"
   ]
  },
  {
   "cell_type": "markdown",
   "metadata": {},
   "source": [
    "## Creating the agent class"
   ]
  },
  {
   "cell_type": "code",
   "execution_count": 3,
   "metadata": {},
   "outputs": [],
   "source": [
    "env = gym.make(\"LunarLander-v2\")\n",
    "\n",
    "class DQLAgent:\n",
    "    \n",
    "    def __init__(self, env, gamma=0.99):\n",
    "        self.gamma = gamma\n",
    "        self.epsilon = 1.0\n",
    "        self.epsilon_decay = 0.998\n",
    "        self.epsilon_min = 0.01\n",
    "        self.tot_reward = []\n",
    "        self.batch_size = 64\n",
    "        self.memory = deque(maxlen=500000)\n",
    "        self.osn = env.observation_space.shape[0]\n",
    "        self.opt = Adam(learning_rate=0.001)\n",
    "        self.model = self._build_model()\n",
    "        \n",
    "    def _build_model(self):\n",
    "        model = Sequential()\n",
    "        model.add(Dense(64, input_dim=self.osn, activation='relu'))\n",
    "        model.add(Dense(64, activation='relu'))\n",
    "        model.add(Dense(env.action_space.n, activation='linear'))\n",
    "        model.compile(loss='mse', optimizer=self.opt)\n",
    "        return model\n",
    "    \n",
    "    def act(self, state):\n",
    "        if random.random() <= self.epsilon:\n",
    "            return env.action_space.sample()\n",
    "        action = self.model.predict(state, verbose=0)\n",
    "        return np.argmax(action[0])\n",
    "    \n",
    "    def memorize(self, state, action, reward, next_state, done):\n",
    "        self.memory.append((state, action, reward, next_state, done))\n",
    "        \n",
    "    def replay_batch(self):\n",
    "        batch = random.sample(self.memory, self.batch_size)\n",
    "\n",
    "        state = np.squeeze(np.array([i[0] for i in batch]))\n",
    "        action = np.array([i[1] for i in batch])\n",
    "        reward = np.array([i[2] for i in batch])\n",
    "        next_state = np.squeeze(np.array([i[3] for i in batch]))\n",
    "        done = np.array([i[4] for i in batch])\n",
    "\n",
    "        q_val = reward + self.gamma * np.amax(self.model.predict_on_batch(next_state), \\\n",
    "                                            axis=1) * (1 - done)\n",
    "        target = self.model.predict_on_batch(state)\n",
    "        idx = np.arange(self.batch_size)\n",
    "        target[[idx], [action]] = q_val\n",
    "\n",
    "        self.model.fit(state, target, epochs=1, verbose=0)\n",
    "\n",
    "        if self.epsilon > self.epsilon_min:\n",
    "            self.epsilon *= self.epsilon_decay\n",
    "            \n",
    "    def learn(self, episodes):\n",
    "        for e in range(1, episodes + 1):\n",
    "            state = env.reset()\n",
    "            state = np.reshape(state, [1, self.osn])\n",
    "            t_reward = 0\n",
    "            max_steps = 1000\n",
    "            for step in range(max_steps):\n",
    "                action = self.act(state)\n",
    "                next_state, reward, done, info = env.step(action)\n",
    "                next_state = np.reshape(next_state, [1, self.osn])\n",
    "                self.memorize(state, action, reward, next_state, done)\n",
    "                state = next_state\n",
    "                t_reward += reward\n",
    "                if len(self.memory) > self.batch_size:\n",
    "                    self.replay_batch()\n",
    "                if done:\n",
    "                    print(f'Episode: {e} | Steps: {step} | Total reward: {t_reward} \\\n",
    "                    | Epsilon: {self.epsilon}')\n",
    "                    break\n",
    "            self.tot_reward.append(t_reward)"
   ]
  },
  {
   "cell_type": "code",
   "execution_count": null,
   "metadata": {},
   "outputs": [],
   "source": []
  }
 ],
 "metadata": {
  "kernelspec": {
   "display_name": "base",
   "language": "python",
   "name": "python3"
  },
  "language_info": {
   "codemirror_mode": {
    "name": "ipython",
    "version": 3
   },
   "file_extension": ".py",
   "mimetype": "text/x-python",
   "name": "python",
   "nbconvert_exporter": "python",
   "pygments_lexer": "ipython3",
   "version": "3.11.8"
  }
 },
 "nbformat": 4,
 "nbformat_minor": 2
}
